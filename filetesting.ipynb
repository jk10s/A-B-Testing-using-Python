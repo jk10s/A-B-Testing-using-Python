{
 "cells": [
  {
   "cell_type": "code",
   "execution_count": 1,
   "id": "0931e3d8",
   "metadata": {},
   "outputs": [],
   "source": [
    "import pandas as pd\n",
    "import datetime\n",
    "from datetime import date, timedelta\n",
    "import plotly.graph_objects as go\n",
    "import plotly.express as px\n",
    "import plotly.io as pio\n",
    "pio.templates.default = \"plotly_white\"\n",
    "\n",
    "control_data = pd.read_csv(\"control_group.csv\", sep = \";\")\n",
    "test_data = pd.read_csv(\"test_group.csv\", sep = \";\")"
   ]
  },
  {
   "cell_type": "code",
   "execution_count": 2,
   "id": "09ba69fb",
   "metadata": {},
   "outputs": [
    {
     "name": "stdout",
     "output_type": "stream",
     "text": [
      "      Campaign Name       Date  Spend [USD]  # of Impressions     Reach  \\\n",
      "0  Control Campaign  1.08.2019         2280           82702.0   56930.0   \n",
      "1  Control Campaign  2.08.2019         1757          121040.0  102513.0   \n",
      "2  Control Campaign  3.08.2019         2343          131711.0  110862.0   \n",
      "3  Control Campaign  4.08.2019         1940           72878.0   61235.0   \n",
      "4  Control Campaign  5.08.2019         1835               NaN       NaN   \n",
      "\n",
      "   # of Website Clicks  # of Searches  # of View Content  # of Add to Cart  \\\n",
      "0               7016.0         2290.0             2159.0            1819.0   \n",
      "1               8110.0         2033.0             1841.0            1219.0   \n",
      "2               6508.0         1737.0             1549.0            1134.0   \n",
      "3               3065.0         1042.0              982.0            1183.0   \n",
      "4                  NaN            NaN                NaN               NaN   \n",
      "\n",
      "   # of Purchase  \n",
      "0          618.0  \n",
      "1          511.0  \n",
      "2          372.0  \n",
      "3          340.0  \n",
      "4            NaN  \n"
     ]
    }
   ],
   "source": [
    "print(control_data.head())"
   ]
  },
  {
   "cell_type": "code",
   "execution_count": 3,
   "id": "ba90029e",
   "metadata": {},
   "outputs": [
    {
     "name": "stdout",
     "output_type": "stream",
     "text": [
      "   Campaign Name       Date  Spend [USD]  # of Impressions  Reach  \\\n",
      "0  Test Campaign  1.08.2019         3008             39550  35820   \n",
      "1  Test Campaign  2.08.2019         2542            100719  91236   \n",
      "2  Test Campaign  3.08.2019         2365             70263  45198   \n",
      "3  Test Campaign  4.08.2019         2710             78451  25937   \n",
      "4  Test Campaign  5.08.2019         2297            114295  95138   \n",
      "\n",
      "   # of Website Clicks  # of Searches  # of View Content  # of Add to Cart  \\\n",
      "0                 3038           1946               1069               894   \n",
      "1                 4657           2359               1548               879   \n",
      "2                 7885           2572               2367              1268   \n",
      "3                 4216           2216               1437               566   \n",
      "4                 5863           2106                858               956   \n",
      "\n",
      "   # of Purchase  \n",
      "0            255  \n",
      "1            677  \n",
      "2            578  \n",
      "3            340  \n",
      "4            768  \n"
     ]
    }
   ],
   "source": [
    "print(test_data.head())"
   ]
  },
  {
   "cell_type": "code",
   "execution_count": 4,
   "id": "bfcadcc6",
   "metadata": {},
   "outputs": [],
   "source": [
    "control_data.columns = [\"Campaign Name\", \"Date\", \"Amount Spent\", \n",
    "                        \"Number of Impressions\", \"Reach\", \"Website Clicks\", \n",
    "                        \"Searches Received\", \"Content Viewed\", \"Added to Cart\",\n",
    "                        \"Purchases\"]\n",
    "\n",
    "test_data.columns = [\"Campaign Name\", \"Date\", \"Amount Spent\", \n",
    "                        \"Number of Impressions\", \"Reach\", \"Website Clicks\", \n",
    "                        \"Searches Received\", \"Content Viewed\", \"Added to Cart\",\n",
    "                        \"Purchases\"]"
   ]
  },
  {
   "cell_type": "code",
   "execution_count": 5,
   "id": "1bfc3263",
   "metadata": {},
   "outputs": [
    {
     "name": "stdout",
     "output_type": "stream",
     "text": [
      "Campaign Name            0\n",
      "Date                     0\n",
      "Amount Spent             0\n",
      "Number of Impressions    1\n",
      "Reach                    1\n",
      "Website Clicks           1\n",
      "Searches Received        1\n",
      "Content Viewed           1\n",
      "Added to Cart            1\n",
      "Purchases                1\n",
      "dtype: int64\n"
     ]
    }
   ],
   "source": [
    "print(control_data.isnull().sum())"
   ]
  },
  {
   "cell_type": "code",
   "execution_count": null,
   "id": "4b788078",
   "metadata": {},
   "outputs": [],
   "source": []
  }
 ],
 "metadata": {
  "kernelspec": {
   "display_name": "Python 3 (ipykernel)",
   "language": "python",
   "name": "python3"
  },
  "language_info": {
   "codemirror_mode": {
    "name": "ipython",
    "version": 3
   },
   "file_extension": ".py",
   "mimetype": "text/x-python",
   "name": "python",
   "nbconvert_exporter": "python",
   "pygments_lexer": "ipython3",
   "version": "3.9.12"
  }
 },
 "nbformat": 4,
 "nbformat_minor": 5
}
